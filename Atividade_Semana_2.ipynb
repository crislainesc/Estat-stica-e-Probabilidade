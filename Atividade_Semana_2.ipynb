{
  "nbformat": 4,
  "nbformat_minor": 0,
  "metadata": {
    "colab": {
      "name": "Atividade Semana 2.ipynb",
      "provenance": [],
      "collapsed_sections": [],
      "authorship_tag": "ABX9TyOGx+tQgKMpUI7LLAzwBmdY",
      "include_colab_link": true
    },
    "kernelspec": {
      "name": "python3",
      "display_name": "Python 3"
    }
  },
  "cells": [
    {
      "cell_type": "markdown",
      "metadata": {
        "id": "view-in-github",
        "colab_type": "text"
      },
      "source": [
        "<a href=\"https://colab.research.google.com/github/crislainesc/Estatistica-e-Probabilidade/blob/main/Atividade_Semana_2.ipynb\" target=\"_parent\"><img src=\"https://colab.research.google.com/assets/colab-badge.svg\" alt=\"Open In Colab\"/></a>"
      ]
    },
    {
      "cell_type": "markdown",
      "metadata": {
        "id": "D9Nvu2RM-DEO"
      },
      "source": [
        "# **Estatística e Probabilidade**\n",
        "\n",
        "Data set com atributos clínicos para avaliação do evento de morte por insuficiência cardíaca.\n",
        "\n",
        "*   Os dados descrevem condições clínicas como diabetes, anemia e características pessoais tais como sexo, idade e tabagismo.\n",
        "*   [Heart Failure Prediction](https://www.kaggle.com/andrewmvd/heart-failure-clinical-data)\n"
      ]
    },
    {
      "cell_type": "markdown",
      "metadata": {
        "id": "tdtSZbVBAYN9"
      },
      "source": [
        "# **Leitura dos Dados**"
      ]
    },
    {
      "cell_type": "code",
      "metadata": {
        "id": "Ku8LK-3Q9_Y7",
        "colab": {
          "base_uri": "https://localhost:8080/",
          "height": 34
        },
        "outputId": "3b153cd4-cd9d-4512-98b1-4d3f3acdd856"
      },
      "source": [
        "# criando ambiente no google drive\n",
        "from google.colab import drive\n",
        "drive.mount('/content/drive/')"
      ],
      "execution_count": null,
      "outputs": [
        {
          "output_type": "stream",
          "text": [
            "Mounted at /content/drive/\n"
          ],
          "name": "stdout"
        }
      ]
    },
    {
      "cell_type": "code",
      "metadata": {
        "id": "NkoTF0n3Aqg1"
      },
      "source": [
        "# importando biblioteca para leitura dos dados\n",
        "import pandas as pd"
      ],
      "execution_count": null,
      "outputs": []
    },
    {
      "cell_type": "code",
      "metadata": {
        "id": "xDGhod2MAvgA"
      },
      "source": [
        "# lendo os dados\n",
        "dados = pd.read_csv('/content/drive/My Drive/Colab Notebooks/Estatística e Probabilidade/Semana 2/heart_failure_clinical_records_dataset.csv')"
      ],
      "execution_count": null,
      "outputs": []
    },
    {
      "cell_type": "code",
      "metadata": {
        "id": "Af2JNC2EBHKX",
        "colab": {
          "base_uri": "https://localhost:8080/",
          "height": 224
        },
        "outputId": "92c97dc1-7eac-4fb4-a98d-0bb3161e112c"
      },
      "source": [
        "dados.head()"
      ],
      "execution_count": null,
      "outputs": [
        {
          "output_type": "execute_result",
          "data": {
            "text/html": [
              "<div>\n",
              "<style scoped>\n",
              "    .dataframe tbody tr th:only-of-type {\n",
              "        vertical-align: middle;\n",
              "    }\n",
              "\n",
              "    .dataframe tbody tr th {\n",
              "        vertical-align: top;\n",
              "    }\n",
              "\n",
              "    .dataframe thead th {\n",
              "        text-align: right;\n",
              "    }\n",
              "</style>\n",
              "<table border=\"1\" class=\"dataframe\">\n",
              "  <thead>\n",
              "    <tr style=\"text-align: right;\">\n",
              "      <th></th>\n",
              "      <th>age</th>\n",
              "      <th>anaemia</th>\n",
              "      <th>creatinine_phosphokinase</th>\n",
              "      <th>diabetes</th>\n",
              "      <th>ejection_fraction</th>\n",
              "      <th>high_blood_pressure</th>\n",
              "      <th>platelets</th>\n",
              "      <th>serum_creatinine</th>\n",
              "      <th>serum_sodium</th>\n",
              "      <th>sex</th>\n",
              "      <th>smoking</th>\n",
              "      <th>time</th>\n",
              "      <th>DEATH_EVENT</th>\n",
              "    </tr>\n",
              "  </thead>\n",
              "  <tbody>\n",
              "    <tr>\n",
              "      <th>0</th>\n",
              "      <td>75.0</td>\n",
              "      <td>0</td>\n",
              "      <td>582</td>\n",
              "      <td>0</td>\n",
              "      <td>20</td>\n",
              "      <td>1</td>\n",
              "      <td>265000.00</td>\n",
              "      <td>1.9</td>\n",
              "      <td>130</td>\n",
              "      <td>1</td>\n",
              "      <td>0</td>\n",
              "      <td>4</td>\n",
              "      <td>1</td>\n",
              "    </tr>\n",
              "    <tr>\n",
              "      <th>1</th>\n",
              "      <td>55.0</td>\n",
              "      <td>0</td>\n",
              "      <td>7861</td>\n",
              "      <td>0</td>\n",
              "      <td>38</td>\n",
              "      <td>0</td>\n",
              "      <td>263358.03</td>\n",
              "      <td>1.1</td>\n",
              "      <td>136</td>\n",
              "      <td>1</td>\n",
              "      <td>0</td>\n",
              "      <td>6</td>\n",
              "      <td>1</td>\n",
              "    </tr>\n",
              "    <tr>\n",
              "      <th>2</th>\n",
              "      <td>65.0</td>\n",
              "      <td>0</td>\n",
              "      <td>146</td>\n",
              "      <td>0</td>\n",
              "      <td>20</td>\n",
              "      <td>0</td>\n",
              "      <td>162000.00</td>\n",
              "      <td>1.3</td>\n",
              "      <td>129</td>\n",
              "      <td>1</td>\n",
              "      <td>1</td>\n",
              "      <td>7</td>\n",
              "      <td>1</td>\n",
              "    </tr>\n",
              "    <tr>\n",
              "      <th>3</th>\n",
              "      <td>50.0</td>\n",
              "      <td>1</td>\n",
              "      <td>111</td>\n",
              "      <td>0</td>\n",
              "      <td>20</td>\n",
              "      <td>0</td>\n",
              "      <td>210000.00</td>\n",
              "      <td>1.9</td>\n",
              "      <td>137</td>\n",
              "      <td>1</td>\n",
              "      <td>0</td>\n",
              "      <td>7</td>\n",
              "      <td>1</td>\n",
              "    </tr>\n",
              "    <tr>\n",
              "      <th>4</th>\n",
              "      <td>65.0</td>\n",
              "      <td>1</td>\n",
              "      <td>160</td>\n",
              "      <td>1</td>\n",
              "      <td>20</td>\n",
              "      <td>0</td>\n",
              "      <td>327000.00</td>\n",
              "      <td>2.7</td>\n",
              "      <td>116</td>\n",
              "      <td>0</td>\n",
              "      <td>0</td>\n",
              "      <td>8</td>\n",
              "      <td>1</td>\n",
              "    </tr>\n",
              "  </tbody>\n",
              "</table>\n",
              "</div>"
            ],
            "text/plain": [
              "    age  anaemia  creatinine_phosphokinase  ...  smoking  time  DEATH_EVENT\n",
              "0  75.0        0                       582  ...        0     4            1\n",
              "1  55.0        0                      7861  ...        0     6            1\n",
              "2  65.0        0                       146  ...        1     7            1\n",
              "3  50.0        1                       111  ...        0     7            1\n",
              "4  65.0        1                       160  ...        0     8            1\n",
              "\n",
              "[5 rows x 13 columns]"
            ]
          },
          "metadata": {
            "tags": []
          },
          "execution_count": 4
        }
      ]
    },
    {
      "cell_type": "code",
      "metadata": {
        "id": "RhJWdZLzBKYL",
        "colab": {
          "base_uri": "https://localhost:8080/",
          "height": 102
        },
        "outputId": "85747a46-51f5-4acc-d0ec-136deeb0ddb8"
      },
      "source": [
        "dados.columns"
      ],
      "execution_count": null,
      "outputs": [
        {
          "output_type": "execute_result",
          "data": {
            "text/plain": [
              "Index(['age', 'anaemia', 'creatinine_phosphokinase', 'diabetes',\n",
              "       'ejection_fraction', 'high_blood_pressure', 'platelets',\n",
              "       'serum_creatinine', 'serum_sodium', 'sex', 'smoking', 'time',\n",
              "       'DEATH_EVENT'],\n",
              "      dtype='object')"
            ]
          },
          "metadata": {
            "tags": []
          },
          "execution_count": 5
        }
      ]
    },
    {
      "cell_type": "markdown",
      "metadata": {
        "id": "l1qPHFX5CA-O"
      },
      "source": [
        "# **Distribuições Amostrais**"
      ]
    },
    {
      "cell_type": "markdown",
      "metadata": {
        "id": "sRNaR7s3CHWG"
      },
      "source": [
        "# **Amostragem Aleatória**"
      ]
    },
    {
      "cell_type": "markdown",
      "metadata": {
        "id": "WkC-UxxzCU_d"
      },
      "source": [
        "Para a amostragem aleatória utilizaremos a coluna idade dos pacientes."
      ]
    },
    {
      "cell_type": "code",
      "metadata": {
        "id": "myIBCxzyCKsq"
      },
      "source": [
        "idades = dados['age'].tolist()"
      ],
      "execution_count": null,
      "outputs": []
    },
    {
      "cell_type": "code",
      "metadata": {
        "id": "gdPuRfSICg4_"
      },
      "source": [
        "import random"
      ],
      "execution_count": null,
      "outputs": []
    },
    {
      "cell_type": "code",
      "metadata": {
        "id": "aOGtg_vJCkUA",
        "colab": {
          "base_uri": "https://localhost:8080/",
          "height": 1000
        },
        "outputId": "a68b46d2-d831-49f9-e5f8-b0660825cb72"
      },
      "source": [
        "idades_selecionadas = random.sample(idades,100)\n",
        "idades_selecionadas"
      ],
      "execution_count": null,
      "outputs": [
        {
          "output_type": "execute_result",
          "data": {
            "text/plain": [
              "[50.0,\n",
              " 80.0,\n",
              " 50.0,\n",
              " 67.0,\n",
              " 85.0,\n",
              " 55.0,\n",
              " 58.0,\n",
              " 50.0,\n",
              " 63.0,\n",
              " 65.0,\n",
              " 58.0,\n",
              " 80.0,\n",
              " 95.0,\n",
              " 65.0,\n",
              " 54.0,\n",
              " 64.0,\n",
              " 75.0,\n",
              " 70.0,\n",
              " 72.0,\n",
              " 65.0,\n",
              " 55.0,\n",
              " 50.0,\n",
              " 51.0,\n",
              " 45.0,\n",
              " 50.0,\n",
              " 62.0,\n",
              " 55.0,\n",
              " 45.0,\n",
              " 70.0,\n",
              " 70.0,\n",
              " 58.0,\n",
              " 55.0,\n",
              " 85.0,\n",
              " 60.0,\n",
              " 50.0,\n",
              " 75.0,\n",
              " 73.0,\n",
              " 80.0,\n",
              " 53.0,\n",
              " 65.0,\n",
              " 70.0,\n",
              " 78.0,\n",
              " 65.0,\n",
              " 70.0,\n",
              " 65.0,\n",
              " 60.0,\n",
              " 50.0,\n",
              " 42.0,\n",
              " 60.0,\n",
              " 64.0,\n",
              " 50.0,\n",
              " 61.0,\n",
              " 66.0,\n",
              " 72.0,\n",
              " 75.0,\n",
              " 45.0,\n",
              " 80.0,\n",
              " 70.0,\n",
              " 57.0,\n",
              " 55.0,\n",
              " 50.0,\n",
              " 45.0,\n",
              " 45.0,\n",
              " 60.0,\n",
              " 58.0,\n",
              " 46.0,\n",
              " 60.0,\n",
              " 75.0,\n",
              " 77.0,\n",
              " 45.0,\n",
              " 70.0,\n",
              " 68.0,\n",
              " 42.0,\n",
              " 40.0,\n",
              " 73.0,\n",
              " 77.0,\n",
              " 73.0,\n",
              " 85.0,\n",
              " 87.0,\n",
              " 65.0,\n",
              " 70.0,\n",
              " 51.0,\n",
              " 68.0,\n",
              " 55.0,\n",
              " 75.0,\n",
              " 45.0,\n",
              " 61.0,\n",
              " 53.0,\n",
              " 45.0,\n",
              " 60.0,\n",
              " 40.0,\n",
              " 95.0,\n",
              " 50.0,\n",
              " 55.0,\n",
              " 65.0,\n",
              " 45.0,\n",
              " 42.0,\n",
              " 46.0,\n",
              " 67.0,\n",
              " 72.0]"
            ]
          },
          "metadata": {
            "tags": []
          },
          "execution_count": 11
        }
      ]
    },
    {
      "cell_type": "code",
      "metadata": {
        "id": "TIqiJ3EBIGz5"
      },
      "source": [
        "import numpy as np"
      ],
      "execution_count": null,
      "outputs": []
    },
    {
      "cell_type": "code",
      "metadata": {
        "id": "pfGBtWLzca3_",
        "colab": {
          "base_uri": "https://localhost:8080/",
          "height": 34
        },
        "outputId": "ceb96d2b-3ae2-4138-97d5-1608a982cb14"
      },
      "source": [
        "np.mean(idades_selecionadas)"
      ],
      "execution_count": null,
      "outputs": [
        {
          "output_type": "execute_result",
          "data": {
            "text/plain": [
              "61.84"
            ]
          },
          "metadata": {
            "tags": []
          },
          "execution_count": 15
        }
      ]
    },
    {
      "cell_type": "markdown",
      "metadata": {
        "id": "DcMdp7l_cfZo"
      },
      "source": [
        "A média de idade para a amostragem aleatória é de 61.84 anos."
      ]
    },
    {
      "cell_type": "markdown",
      "metadata": {
        "id": "LuvDHlzCC6ZT"
      },
      "source": [
        "# **Amostragem Estratificada**"
      ]
    },
    {
      "cell_type": "markdown",
      "metadata": {
        "id": "6n9T1sZ9K7j4"
      },
      "source": [
        "Para a amostragem estratificada as idades serão separadas pelo gênero do paciente que pode ser:\n",
        "\n",
        "\n",
        "*   Masculino (1)\n",
        "*   Feminino (0)\n",
        "\n"
      ]
    },
    {
      "cell_type": "code",
      "metadata": {
        "id": "GRKuYG0zC3Bw",
        "colab": {
          "base_uri": "https://localhost:8080/",
          "height": 1000
        },
        "outputId": "2c6adf61-db57-4dbf-d227-61ab064050d7"
      },
      "source": [
        "idades_homens = []\n",
        "idades_mulheres = []\n",
        "for i in range(len(dados)):\n",
        "  if dados['sex'][i] == 1:\n",
        "    idades_homens.append(int(dados['age'][i]))\n",
        "  elif dados['sex'][i] == 0:\n",
        "    idades_mulheres.append(int(dados['age'][i]))\n",
        "idades_homens\n",
        "idades_mulheres"
      ],
      "execution_count": null,
      "outputs": [
        {
          "output_type": "execute_result",
          "data": {
            "text/plain": [
              "[65,\n",
              " 65,\n",
              " 49,\n",
              " 70,\n",
              " 48,\n",
              " 65,\n",
              " 65,\n",
              " 75,\n",
              " 95,\n",
              " 50,\n",
              " 50,\n",
              " 82,\n",
              " 60,\n",
              " 50,\n",
              " 60,\n",
              " 57,\n",
              " 53,\n",
              " 60,\n",
              " 70,\n",
              " 60,\n",
              " 50,\n",
              " 45,\n",
              " 42,\n",
              " 70,\n",
              " 70,\n",
              " 55,\n",
              " 70,\n",
              " 60,\n",
              " 59,\n",
              " 42,\n",
              " 58,\n",
              " 70,\n",
              " 60,\n",
              " 63,\n",
              " 60,\n",
              " 72,\n",
              " 70,\n",
              " 58,\n",
              " 60,\n",
              " 85,\n",
              " 65,\n",
              " 86,\n",
              " 66,\n",
              " 60,\n",
              " 60,\n",
              " 43,\n",
              " 46,\n",
              " 58,\n",
              " 46,\n",
              " 65,\n",
              " 62,\n",
              " 46,\n",
              " 50,\n",
              " 61,\n",
              " 72,\n",
              " 65,\n",
              " 52,\n",
              " 50,\n",
              " 80,\n",
              " 65,\n",
              " 70,\n",
              " 49,\n",
              " 50,\n",
              " 60,\n",
              " 60,\n",
              " 40,\n",
              " 64,\n",
              " 45,\n",
              " 65,\n",
              " 50,\n",
              " 50,\n",
              " 40,\n",
              " 60,\n",
              " 49,\n",
              " 48,\n",
              " 70,\n",
              " 54,\n",
              " 55,\n",
              " 75,\n",
              " 65,\n",
              " 72,\n",
              " 60,\n",
              " 65,\n",
              " 70,\n",
              " 73,\n",
              " 53,\n",
              " 50,\n",
              " 55,\n",
              " 70,\n",
              " 65,\n",
              " 62,\n",
              " 68,\n",
              " 45,\n",
              " 51,\n",
              " 67,\n",
              " 45,\n",
              " 70,\n",
              " 50,\n",
              " 55,\n",
              " 45,\n",
              " 65,\n",
              " 90,\n",
              " 45,\n",
              " 55,\n",
              " 45]"
            ]
          },
          "metadata": {
            "tags": []
          },
          "execution_count": 16
        }
      ]
    },
    {
      "cell_type": "code",
      "metadata": {
        "id": "K4QtncVMDxkg",
        "colab": {
          "base_uri": "https://localhost:8080/",
          "height": 51
        },
        "outputId": "6da0c530-b61c-424d-be46-3caf9c162e8d"
      },
      "source": [
        "idades_selecionadas = []\n",
        "idades_selecionadas.append(random.sample(idades_homens, 10))\n",
        "idades_selecionadas.append(random.sample(idades_mulheres,10))\n",
        "idades_selecionadas"
      ],
      "execution_count": null,
      "outputs": [
        {
          "output_type": "execute_result",
          "data": {
            "text/plain": [
              "[[50, 90, 45, 58, 70, 75, 65, 44, 53, 59],\n",
              " [60, 45, 55, 65, 65, 45, 90, 55, 60, 62]]"
            ]
          },
          "metadata": {
            "tags": []
          },
          "execution_count": 17
        }
      ]
    },
    {
      "cell_type": "code",
      "metadata": {
        "id": "NblNotM_cpyN",
        "colab": {
          "base_uri": "https://localhost:8080/",
          "height": 34
        },
        "outputId": "21829887-a2cf-4c08-caea-4c3b91c4b91c"
      },
      "source": [
        "np.mean(idades_selecionadas)"
      ],
      "execution_count": null,
      "outputs": [
        {
          "output_type": "execute_result",
          "data": {
            "text/plain": [
              "60.55"
            ]
          },
          "metadata": {
            "tags": []
          },
          "execution_count": 18
        }
      ]
    },
    {
      "cell_type": "markdown",
      "metadata": {
        "id": "lfPKpxZzcvOy"
      },
      "source": [
        "A diferença entre a média da amostragem estratificada para a amostragem aleatória é de 1.29 anos."
      ]
    },
    {
      "cell_type": "markdown",
      "metadata": {
        "id": "5tCHNAnLEkAu"
      },
      "source": [
        "# **Amostragem Sistemática**"
      ]
    },
    {
      "cell_type": "code",
      "metadata": {
        "id": "xUoUx8dRE5pt",
        "colab": {
          "base_uri": "https://localhost:8080/",
          "height": 357
        },
        "outputId": "3d5f079c-8ddd-4a9f-e6f6-e160f5528023"
      },
      "source": [
        "idades_selecionadas = [int(idades[i]) for i in range(0,100,5)]\n",
        "idades_selecionadas"
      ],
      "execution_count": null,
      "outputs": [
        {
          "output_type": "execute_result",
          "data": {
            "text/plain": [
              "[75,\n",
              " 90,\n",
              " 75,\n",
              " 82,\n",
              " 65,\n",
              " 80,\n",
              " 94,\n",
              " 69,\n",
              " 70,\n",
              " 50,\n",
              " 68,\n",
              " 95,\n",
              " 45,\n",
              " 60,\n",
              " 41,\n",
              " 60,\n",
              " 70,\n",
              " 51,\n",
              " 70,\n",
              " 58]"
            ]
          },
          "metadata": {
            "tags": []
          },
          "execution_count": 21
        }
      ]
    },
    {
      "cell_type": "code",
      "metadata": {
        "id": "xBzDvFb8c_Fm",
        "colab": {
          "base_uri": "https://localhost:8080/",
          "height": 34
        },
        "outputId": "7f790529-70db-46b0-8f44-b5356a8ed406"
      },
      "source": [
        "np.mean(idades_selecionadas)"
      ],
      "execution_count": null,
      "outputs": [
        {
          "output_type": "execute_result",
          "data": {
            "text/plain": [
              "68.4"
            ]
          },
          "metadata": {
            "tags": []
          },
          "execution_count": 22
        }
      ]
    },
    {
      "cell_type": "markdown",
      "metadata": {
        "id": "LxFih9VkI0-z"
      },
      "source": [
        "Dentre os tipos de amostragem realizados acima a amostragem sistemática foi a que possuiu a maior média sendo 68.4 anos."
      ]
    },
    {
      "cell_type": "markdown",
      "metadata": {
        "id": "6n1eodyzFaPG"
      },
      "source": [
        "# **Distribuição de Bernoulli**"
      ]
    },
    {
      "cell_type": "markdown",
      "metadata": {
        "id": "izHLl9zfBOk5"
      },
      "source": [
        "Neste data set uma das variáveis de Bernoulli é a que possui o atributo de evento de morte, que será selecionada para a análise dos dados."
      ]
    },
    {
      "cell_type": "code",
      "metadata": {
        "id": "7bk3NMpsBL27",
        "colab": {
          "base_uri": "https://localhost:8080/",
          "height": 54
        },
        "outputId": "688a6537-5623-422a-dd82-bd570a1bb237"
      },
      "source": [
        "# transformando a coluna evento de morte em lista\n",
        "evento = dados['DEATH_EVENT'].tolist()\n",
        "print(evento)"
      ],
      "execution_count": null,
      "outputs": [
        {
          "output_type": "stream",
          "text": [
            "[1, 1, 1, 1, 1, 1, 1, 1, 1, 1, 1, 1, 1, 1, 0, 1, 1, 1, 1, 1, 0, 1, 1, 0, 1, 1, 1, 1, 1, 1, 1, 1, 1, 0, 1, 1, 1, 1, 0, 1, 1, 1, 1, 0, 1, 1, 1, 1, 1, 1, 1, 1, 1, 1, 1, 1, 0, 0, 1, 1, 1, 1, 0, 1, 0, 1, 1, 1, 1, 1, 0, 0, 1, 0, 1, 1, 0, 0, 0, 0, 0, 0, 1, 0, 1, 0, 0, 0, 0, 0, 0, 0, 0, 1, 0, 0, 0, 0, 0, 0, 0, 0, 0, 0, 0, 1, 0, 0, 0, 0, 1, 0, 0, 1, 0, 0, 0, 0, 0, 1, 0, 0, 0, 0, 1, 0, 1, 0, 0, 0, 0, 0, 0, 0, 0, 0, 0, 0, 0, 0, 1, 0, 0, 0, 1, 0, 0, 0, 1, 0, 1, 0, 0, 0, 0, 0, 0, 0, 0, 0, 0, 0, 0, 1, 1, 1, 0, 1, 0, 0, 0, 0, 0, 0, 0, 0, 0, 0, 0, 0, 0, 1, 1, 1, 1, 1, 1, 1, 0, 0, 0, 0, 0, 0, 1, 1, 0, 0, 0, 0, 0, 0, 0, 0, 0, 0, 0, 0, 0, 0, 0, 0, 0, 1, 0, 0, 0, 1, 0, 0, 1, 0, 0, 0, 0, 0, 0, 0, 0, 0, 1, 0, 0, 0, 0, 0, 0, 0, 0, 0, 0, 0, 0, 0, 0, 0, 1, 0, 0, 0, 0, 0, 0, 0, 0, 0, 0, 0, 0, 0, 0, 0, 1, 0, 0, 0, 1, 0, 0, 0, 0, 0, 0, 0, 0, 0, 0, 0, 0, 0, 0, 0, 0, 0, 0, 0, 0, 0, 0, 0, 0, 0, 0, 0, 0, 0, 0, 0, 0]\n"
          ],
          "name": "stdout"
        }
      ]
    },
    {
      "cell_type": "code",
      "metadata": {
        "id": "N0iexldEH63U",
        "colab": {
          "base_uri": "https://localhost:8080/",
          "height": 34
        },
        "outputId": "87dde54c-da1f-4063-a578-d1d6f03b8159"
      },
      "source": [
        "p = evento.count(0)/len(evento)\n",
        "p"
      ],
      "execution_count": null,
      "outputs": [
        {
          "output_type": "execute_result",
          "data": {
            "text/plain": [
              "0.6789297658862876"
            ]
          },
          "metadata": {
            "tags": []
          },
          "execution_count": 81
        }
      ]
    },
    {
      "cell_type": "markdown",
      "metadata": {
        "id": "4eTlM58TJggx"
      },
      "source": [
        "A probabilidade de sucesso, que seria não ocorrer o evento de morte com o paciente é de 67.89%."
      ]
    },
    {
      "cell_type": "code",
      "metadata": {
        "id": "bYkprF0KIHLC",
        "colab": {
          "base_uri": "https://localhost:8080/",
          "height": 34
        },
        "outputId": "6791f5fc-e6e1-41f9-d3ee-dfbdb8f78602"
      },
      "source": [
        "q = evento.count(1)/len(evento)\n",
        "q"
      ],
      "execution_count": null,
      "outputs": [
        {
          "output_type": "execute_result",
          "data": {
            "text/plain": [
              "0.3210702341137124"
            ]
          },
          "metadata": {
            "tags": []
          },
          "execution_count": 82
        }
      ]
    },
    {
      "cell_type": "markdown",
      "metadata": {
        "id": "-e-5yocaJv1a"
      },
      "source": [
        "Já a probabilidade de fracasso, quando ocorre o evento de morte com o paciente é de aproximadamente 32.10%"
      ]
    },
    {
      "cell_type": "code",
      "metadata": {
        "id": "MbQUR-HkG90V",
        "colab": {
          "base_uri": "https://localhost:8080/",
          "height": 34
        },
        "outputId": "8ed0f27f-4395-490f-ac82-e2bcd31d0ede"
      },
      "source": [
        "media = p\n",
        "media"
      ],
      "execution_count": null,
      "outputs": [
        {
          "output_type": "execute_result",
          "data": {
            "text/plain": [
              "0.6789297658862876"
            ]
          },
          "metadata": {
            "tags": []
          },
          "execution_count": 84
        }
      ]
    },
    {
      "cell_type": "code",
      "metadata": {
        "id": "5Sk3a3uoHDm7",
        "colab": {
          "base_uri": "https://localhost:8080/",
          "height": 34
        },
        "outputId": "363a602e-2c0d-43e4-99a4-bf73afec5843"
      },
      "source": [
        "var = np.var(evento)\n",
        "var"
      ],
      "execution_count": null,
      "outputs": [
        {
          "output_type": "execute_result",
          "data": {
            "text/plain": [
              "0.21798413887987828"
            ]
          },
          "metadata": {
            "tags": []
          },
          "execution_count": 85
        }
      ]
    },
    {
      "cell_type": "code",
      "metadata": {
        "id": "iodHk-OPdIQW",
        "colab": {
          "base_uri": "https://localhost:8080/",
          "height": 34
        },
        "outputId": "348b2c82-79ef-4b02-f1f8-4967a79dfc59"
      },
      "source": [
        "desv = var**(1/2)\n",
        "desv"
      ],
      "execution_count": null,
      "outputs": [
        {
          "output_type": "execute_result",
          "data": {
            "text/plain": [
              "0.46688771549471964"
            ]
          },
          "metadata": {
            "tags": []
          },
          "execution_count": 86
        }
      ]
    },
    {
      "cell_type": "markdown",
      "metadata": {
        "id": "_OrquICJN8SB"
      },
      "source": [
        "A média para a distribuição de Bernoulli é dada por:\n",
        "* $\\overline{x} = E(x) = p$\n",
        "\n",
        "Portanto possui o mesmo valor da probabilidade de sucesso sendo 0.67. \n",
        "\n",
        "A variância é dada por:\n",
        "* $s^2 = VAR(x) = p(1-p) = p\\cdot q$\n",
        "\n",
        "Sendo quivalente a multiplicação das variáveis p e q, possui o valor 0.21. E o desvio padrão calculado a partir da raiz quadrada da variância é de 0.46. "
      ]
    },
    {
      "cell_type": "markdown",
      "metadata": {
        "id": "LVQQ7Tj2HMuV"
      },
      "source": [
        "# **Distribuição Binomial**"
      ]
    },
    {
      "cell_type": "code",
      "metadata": {
        "id": "A9jVoHtnHMZ6"
      },
      "source": [
        "from math import factorial"
      ],
      "execution_count": null,
      "outputs": []
    },
    {
      "cell_type": "code",
      "metadata": {
        "id": "EwAu7hOAHbbX"
      },
      "source": [
        "def ProbabilidadeBinomial(x,n,p,q):\n",
        "  return (factorial(n)/(factorial(n-x)*factorial(x)))*(p**x)*(q**(n-x))"
      ],
      "execution_count": null,
      "outputs": []
    },
    {
      "cell_type": "markdown",
      "metadata": {
        "id": "R0Wua95BIPYs"
      },
      "source": [
        "**Problema 1**\n",
        "\n",
        "\n",
        "*   10 pacientes são selecionados ao acaso\n",
        "*   Qual a probabilidade de haver exatamente 4 eventos de morte?\n",
        "\n"
      ]
    },
    {
      "cell_type": "code",
      "metadata": {
        "id": "b8V6o6JnIftQ",
        "colab": {
          "base_uri": "https://localhost:8080/",
          "height": 34
        },
        "outputId": "8b67feb5-3141-413c-8bbf-96778c2248c2"
      },
      "source": [
        "x = 4\n",
        "n = 10\n",
        "ProbabilidadeBinomial(x,n,p,q)"
      ],
      "execution_count": null,
      "outputs": [
        {
          "output_type": "execute_result",
          "data": {
            "text/plain": [
              "0.21855893769877976"
            ]
          },
          "metadata": {
            "tags": []
          },
          "execution_count": 69
        }
      ]
    },
    {
      "cell_type": "markdown",
      "metadata": {
        "id": "MbGqpvQGOtgm"
      },
      "source": [
        "A probabilidade de ocorrer exatamente 4 eventos de morte é de 0.21"
      ]
    },
    {
      "cell_type": "markdown",
      "metadata": {
        "id": "pO-ineHJI9di"
      },
      "source": [
        "**Problema 2**\n",
        "\n",
        "\n",
        "*   10 pacientes são selecionados ao acaso\n",
        "*   Qual a probabilidade de haver exatamente 5 ou mais eventos de morte?\n"
      ]
    },
    {
      "cell_type": "code",
      "metadata": {
        "id": "DnEPBvSYJS9C",
        "colab": {
          "base_uri": "https://localhost:8080/",
          "height": 34
        },
        "outputId": "565f0ac8-4475-4f50-f627-49e66acfa66b"
      },
      "source": [
        "p5 = ProbabilidadeBinomial(5,n,p,q)\n",
        "p5"
      ],
      "execution_count": null,
      "outputs": [
        {
          "output_type": "execute_result",
          "data": {
            "text/plain": [
              "0.12402950553152427"
            ]
          },
          "metadata": {
            "tags": []
          },
          "execution_count": 87
        }
      ]
    },
    {
      "cell_type": "code",
      "metadata": {
        "id": "v13asyjTbRc2",
        "colab": {
          "base_uri": "https://localhost:8080/",
          "height": 34
        },
        "outputId": "73b62199-f9a7-478f-db46-f6074cf33322"
      },
      "source": [
        "p6 = ProbabilidadeBinomial(6,n,p,q)\n",
        "p6"
      ],
      "execution_count": null,
      "outputs": [
        {
          "output_type": "execute_result",
          "data": {
            "text/plain": [
              "0.21855893769877976"
            ]
          },
          "metadata": {
            "tags": []
          },
          "execution_count": 88
        }
      ]
    },
    {
      "cell_type": "code",
      "metadata": {
        "id": "2mX8Ip6ibe_Z",
        "colab": {
          "base_uri": "https://localhost:8080/",
          "height": 34
        },
        "outputId": "825b0cf6-593d-45f5-a728-b69994b804b0"
      },
      "source": [
        "p7 = ProbabilidadeBinomial(7,n,p,q)\n",
        "p7"
      ],
      "execution_count": null,
      "outputs": [
        {
          "output_type": "execute_result",
          "data": {
            "text/plain": [
              "0.26409204971935885"
            ]
          },
          "metadata": {
            "tags": []
          },
          "execution_count": 89
        }
      ]
    },
    {
      "cell_type": "code",
      "metadata": {
        "id": "TIToprXebksR",
        "colab": {
          "base_uri": "https://localhost:8080/",
          "height": 34
        },
        "outputId": "72f5cc2d-3994-41b8-cc26-3d6219bcc9b9"
      },
      "source": [
        "p8 = ProbabilidadeBinomial(8,n,p,q)\n",
        "p8"
      ],
      "execution_count": null,
      "outputs": [
        {
          "output_type": "execute_result",
          "data": {
            "text/plain": [
              "0.20941674255089784"
            ]
          },
          "metadata": {
            "tags": []
          },
          "execution_count": 90
        }
      ]
    },
    {
      "cell_type": "code",
      "metadata": {
        "id": "xArwx69fbnYN",
        "colab": {
          "base_uri": "https://localhost:8080/",
          "height": 34
        },
        "outputId": "5e242b23-b94e-468e-c180-6dacc66dc760"
      },
      "source": [
        "p9 = ProbabilidadeBinomial(9,n,p,q)\n",
        "p9"
      ],
      "execution_count": null,
      "outputs": [
        {
          "output_type": "execute_result",
          "data": {
            "text/plain": [
              "0.09840647855979691"
            ]
          },
          "metadata": {
            "tags": []
          },
          "execution_count": 91
        }
      ]
    },
    {
      "cell_type": "code",
      "metadata": {
        "id": "EkH-Qi9bbqM4",
        "colab": {
          "base_uri": "https://localhost:8080/",
          "height": 34
        },
        "outputId": "67058d90-227b-452e-812b-1fe9296acd06"
      },
      "source": [
        "p10 = ProbabilidadeBinomial(10,n,p,q)\n",
        "p10"
      ],
      "execution_count": null,
      "outputs": [
        {
          "output_type": "execute_result",
          "data": {
            "text/plain": [
              "0.02080886994545705"
            ]
          },
          "metadata": {
            "tags": []
          },
          "execution_count": 92
        }
      ]
    },
    {
      "cell_type": "code",
      "metadata": {
        "id": "i3-MVSwBJnvI",
        "colab": {
          "base_uri": "https://localhost:8080/",
          "height": 34
        },
        "outputId": "ded8d4a6-8477-473a-ed85-30a99367b0ac"
      },
      "source": [
        "p5+p6+p7+p8+p9+p10"
      ],
      "execution_count": null,
      "outputs": [
        {
          "output_type": "execute_result",
          "data": {
            "text/plain": [
              "0.9353125840058146"
            ]
          },
          "metadata": {
            "tags": []
          },
          "execution_count": 93
        }
      ]
    },
    {
      "cell_type": "markdown",
      "metadata": {
        "id": "SKnn9IxfS8Jw"
      },
      "source": [
        "Com a soma dos acontecimento de 5 ou mais evento de mortes até a possibilidade de ocorrer 10 eventos é de 93.53% a cada 10 pacientes."
      ]
    },
    {
      "cell_type": "markdown",
      "metadata": {
        "id": "cEW-vRz9JzOo"
      },
      "source": [
        "Distribuição de Probabilidade"
      ]
    },
    {
      "cell_type": "code",
      "metadata": {
        "id": "RtXsm8R-JykF"
      },
      "source": [
        "probabilidades = []\n",
        "for x in range(11):\n",
        "  probabilidades.append(ProbabilidadeBinomial(x,n,p,q))"
      ],
      "execution_count": null,
      "outputs": []
    },
    {
      "cell_type": "code",
      "metadata": {
        "id": "m_qoTcbxKEU7",
        "colab": {
          "base_uri": "https://localhost:8080/",
          "height": 34
        },
        "outputId": "9e4e18d2-82d6-4287-fe68-1b87e253c023"
      },
      "source": [
        "np.sum(probabilidades)"
      ],
      "execution_count": null,
      "outputs": [
        {
          "output_type": "execute_result",
          "data": {
            "text/plain": [
              "1.0"
            ]
          },
          "metadata": {
            "tags": []
          },
          "execution_count": 95
        }
      ]
    },
    {
      "cell_type": "code",
      "metadata": {
        "id": "v0_n2n8BKmxC"
      },
      "source": [
        "import matplotlib.pyplot as plt"
      ],
      "execution_count": null,
      "outputs": []
    },
    {
      "cell_type": "code",
      "metadata": {
        "id": "1G8TbCrFKIwz",
        "colab": {
          "base_uri": "https://localhost:8080/",
          "height": 295
        },
        "outputId": "d50be0ef-d180-44ec-e989-ab12d5f6a3d8"
      },
      "source": [
        "# histograma de frequência\n",
        "x = [0,1,2,3,4,5,6,7,8,9,10]\n",
        "plt.bar(x,probabilidades)\n",
        "plt.xlabel(\"X\")\n",
        "plt.ylabel(\"P(x)\")\n",
        "plt.title(\"Distribuição de Probabilidade\")\n",
        "plt.grid(True)\n",
        "plt.show()"
      ],
      "execution_count": null,
      "outputs": [
        {
          "output_type": "display_data",
          "data": {
            "image/png": "[encoded data removed]",
            "text/plain": [
              "<Figure size 432x288 with 1 Axes>"
            ]
          },
          "metadata": {
            "tags": [],
            "needs_background": "light"
          }
        }
      ]
    },
    {
      "cell_type": "markdown",
      "metadata": {
        "id": "AtpAE9rNTQZf"
      },
      "source": [
        "O histograma ilustra a distribuição de probabilidade entre 0 e 10 eventos de morte sendo o caso em que se possam ocorrer 7 eventos de morte possui a probabilidade mais alta dentre os casos possíveis."
      ]
    },
    {
      "cell_type": "markdown",
      "metadata": {
        "id": "d1KkUynyToCC"
      },
      "source": [
        "# **Referências**\n",
        "\n",
        "* LARSON, Ron. Estatística aplicada. Tradução de José Fernando Pereira\n",
        "Gonçalves. 6º. ed. Pearson Education do Brasil Ltda., 2015. p.177-178.\n",
        "* MARANHÃO, Heart Failure Prediction. Kaggle, 2020. Disponível em: https://www.kaggle.com/andrewmvd/heart-failure-clinical-data/discussion. Acesso em: 22 Out. 2020."
      ]
    }
  ]
}