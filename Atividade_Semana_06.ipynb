{
  "nbformat": 4,
  "nbformat_minor": 0,
  "metadata": {
    "colab": {
      "name": "Atividade Semana 06.ipynb",
      "provenance": [],
      "collapsed_sections": [],
      "authorship_tag": "ABX9TyPemcDsCcku1qhQzvH8RD0n",
      "include_colab_link": true
    },
    "kernelspec": {
      "name": "python3",
      "display_name": "Python 3"
    }
  },
  "cells": [
    {
      "cell_type": "markdown",
      "metadata": {
        "id": "view-in-github",
        "colab_type": "text"
      },
      "source": [
        "<a href=\"https://colab.research.google.com/github/crislainesc/Estatistica-e-Probabilidade/blob/main/Atividade_Semana_06.ipynb\" target=\"_parent\"><img src=\"https://colab.research.google.com/assets/colab-badge.svg\" alt=\"Open In Colab\"/></a>"
      ]
    },
    {
      "cell_type": "markdown",
      "metadata": {
        "id": "bBviHKlXMudW"
      },
      "source": [
        "# **Estatística e Probabilidade**\n",
        "\n",
        "Data set com atributos númericos acerca de espécies de íris.\n",
        "\n",
        "*  Os dados incluem três espécies de íris com 50 amostras cada, bem como algumas propriedades sobre cada flor.\n",
        "*   [Iris Species](https://www.kaggle.com/uciml/iris)\n"
      ]
    },
    {
      "cell_type": "markdown",
      "metadata": {
        "id": "PIYOaNh2MxrN"
      },
      "source": [
        "# **Leitura dos dados**"
      ]
    },
    {
      "cell_type": "code",
      "metadata": {
        "id": "huCyl0OKL6-f",
        "colab": {
          "base_uri": "https://localhost:8080/"
        },
        "outputId": "2b3c2cbf-3d7b-4f83-ea4e-d8027c48222f"
      },
      "source": [
        "# criando ambiente no Google Drive\n",
        "from google.colab import drive\n",
        "drive.mount(\"/content/drive/\")"
      ],
      "execution_count": null,
      "outputs": [
        {
          "output_type": "stream",
          "text": [
            "Drive already mounted at /content/drive/; to attempt to forcibly remount, call drive.mount(\"/content/drive/\", force_remount=True).\n"
          ],
          "name": "stdout"
        }
      ]
    },
    {
      "cell_type": "code",
      "metadata": {
        "id": "6vf0NJP4NGH_"
      },
      "source": [
        "# importando bibliotecas\n",
        "import matplotlib.pyplot as plt\n",
        "import pandas as pd\n",
        "import numpy as np\n",
        "import seaborn as sns\n",
        "from scipy import stats"
      ],
      "execution_count": null,
      "outputs": []
    },
    {
      "cell_type": "code",
      "metadata": {
        "id": "YWOpzBSvNQm0"
      },
      "source": [
        "# lendo os dados\n",
        "dados = pd.read_csv(\"/content/drive/My Drive/Colab Notebooks/Estatística e Probabilidade/Semana 6/Iris.csv\")"
      ],
      "execution_count": null,
      "outputs": []
    },
    {
      "cell_type": "code",
      "metadata": {
        "colab": {
          "base_uri": "https://localhost:8080/",
          "height": 204
        },
        "id": "SSSjqJpWN9-M",
        "outputId": "f9e46f09-3f47-49ea-9e07-5738c65eb5a7"
      },
      "source": [
        "dados.head()"
      ],
      "execution_count": null,
      "outputs": [
        {
          "output_type": "execute_result",
          "data": {
            "text/html": [
              "<div>\n",
              "<style scoped>\n",
              "    .dataframe tbody tr th:only-of-type {\n",
              "        vertical-align: middle;\n",
              "    }\n",
              "\n",
              "    .dataframe tbody tr th {\n",
              "        vertical-align: top;\n",
              "    }\n",
              "\n",
              "    .dataframe thead th {\n",
              "        text-align: right;\n",
              "    }\n",
              "</style>\n",
              "<table border=\"1\" class=\"dataframe\">\n",
              "  <thead>\n",
              "    <tr style=\"text-align: right;\">\n",
              "      <th></th>\n",
              "      <th>Id</th>\n",
              "      <th>SepalLengthCm</th>\n",
              "      <th>SepalWidthCm</th>\n",
              "      <th>PetalLengthCm</th>\n",
              "      <th>PetalWidthCm</th>\n",
              "      <th>Species</th>\n",
              "    </tr>\n",
              "  </thead>\n",
              "  <tbody>\n",
              "    <tr>\n",
              "      <th>0</th>\n",
              "      <td>1</td>\n",
              "      <td>5.1</td>\n",
              "      <td>3.5</td>\n",
              "      <td>1.4</td>\n",
              "      <td>0.2</td>\n",
              "      <td>Iris-setosa</td>\n",
              "    </tr>\n",
              "    <tr>\n",
              "      <th>1</th>\n",
              "      <td>2</td>\n",
              "      <td>4.9</td>\n",
              "      <td>3.0</td>\n",
              "      <td>1.4</td>\n",
              "      <td>0.2</td>\n",
              "      <td>Iris-setosa</td>\n",
              "    </tr>\n",
              "    <tr>\n",
              "      <th>2</th>\n",
              "      <td>3</td>\n",
              "      <td>4.7</td>\n",
              "      <td>3.2</td>\n",
              "      <td>1.3</td>\n",
              "      <td>0.2</td>\n",
              "      <td>Iris-setosa</td>\n",
              "    </tr>\n",
              "    <tr>\n",
              "      <th>3</th>\n",
              "      <td>4</td>\n",
              "      <td>4.6</td>\n",
              "      <td>3.1</td>\n",
              "      <td>1.5</td>\n",
              "      <td>0.2</td>\n",
              "      <td>Iris-setosa</td>\n",
              "    </tr>\n",
              "    <tr>\n",
              "      <th>4</th>\n",
              "      <td>5</td>\n",
              "      <td>5.0</td>\n",
              "      <td>3.6</td>\n",
              "      <td>1.4</td>\n",
              "      <td>0.2</td>\n",
              "      <td>Iris-setosa</td>\n",
              "    </tr>\n",
              "  </tbody>\n",
              "</table>\n",
              "</div>"
            ],
            "text/plain": [
              "   Id  SepalLengthCm  SepalWidthCm  PetalLengthCm  PetalWidthCm      Species\n",
              "0   1            5.1           3.5            1.4           0.2  Iris-setosa\n",
              "1   2            4.9           3.0            1.4           0.2  Iris-setosa\n",
              "2   3            4.7           3.2            1.3           0.2  Iris-setosa\n",
              "3   4            4.6           3.1            1.5           0.2  Iris-setosa\n",
              "4   5            5.0           3.6            1.4           0.2  Iris-setosa"
            ]
          },
          "metadata": {
            "tags": []
          },
          "execution_count": 6
        }
      ]
    },
    {
      "cell_type": "code",
      "metadata": {
        "colab": {
          "base_uri": "https://localhost:8080/"
        },
        "id": "TIDSa_ZhQ0TO",
        "outputId": "7607d7d0-a121-4989-b5b3-a9af04702bb5"
      },
      "source": [
        "dados.columns"
      ],
      "execution_count": null,
      "outputs": [
        {
          "output_type": "execute_result",
          "data": {
            "text/plain": [
              "Index(['Id', 'SepalLengthCm', 'SepalWidthCm', 'PetalLengthCm', 'PetalWidthCm',\n",
              "       'Species'],\n",
              "      dtype='object')"
            ]
          },
          "metadata": {
            "tags": []
          },
          "execution_count": 7
        }
      ]
    },
    {
      "cell_type": "markdown",
      "metadata": {
        "id": "bfhXkScLPJmb"
      },
      "source": [
        "# **Análise Estatística de Duas Variáveis**"
      ]
    },
    {
      "cell_type": "markdown",
      "metadata": {
        "id": "wQkx-AgEPY-p"
      },
      "source": [
        "**Correlação**"
      ]
    },
    {
      "cell_type": "code",
      "metadata": {
        "colab": {
          "base_uri": "https://localhost:8080/",
          "height": 296
        },
        "id": "T6VIe4cfPeeh",
        "outputId": "6e2e3360-ebcd-412b-8600-bec15810e390"
      },
      "source": [
        "plt.scatter(dados[\"PetalLengthCm\"], dados[\"SepalLengthCm\"])\n",
        "plt.xlabel(\"Comprimento da Pétala\")\n",
        "plt.ylabel(\"Comprimento do Sépal\")\n",
        "plt.title(\"Diagrama de Dispersão\")\n",
        "plt.show()"
      ],
      "execution_count": null,
      "outputs": [
        {
          "output_type": "display_data",
          "data": {
            "image/png": "[encoded data removed]",
            "text/plain": [
              "<Figure size 432x288 with 1 Axes>"
            ]
          },
          "metadata": {
            "tags": [],
            "needs_background": "light"
          }
        }
      ]
    },
    {
      "cell_type": "code",
      "metadata": {
        "colab": {
          "base_uri": "https://localhost:8080/"
        },
        "id": "vEIUApHHQUXR",
        "outputId": "b842f3f0-2387-462b-9038-1f9a05d03967"
      },
      "source": [
        "np.corrcoef(dados[\"PetalLengthCm\"], dados[\"SepalLengthCm\"])"
      ],
      "execution_count": null,
      "outputs": [
        {
          "output_type": "execute_result",
          "data": {
            "text/plain": [
              "array([[1.        , 0.87175416],\n",
              "       [0.87175416, 1.        ]])"
            ]
          },
          "metadata": {
            "tags": []
          },
          "execution_count": 9
        }
      ]
    },
    {
      "cell_type": "markdown",
      "metadata": {
        "id": "0az6SJwpQeZz"
      },
      "source": [
        "De acordo com o diagrama de dispersão acima, podemos perceber que há uma correlação linear positiva entre o comprimento da pétala e o comprimento do sépal."
      ]
    },
    {
      "cell_type": "code",
      "metadata": {
        "colab": {
          "base_uri": "https://localhost:8080/",
          "height": 296
        },
        "id": "LrV4zz8PQ_4p",
        "outputId": "74f178d8-e070-42ae-e3f9-d6b516ab3a2a"
      },
      "source": [
        "plt.scatter(dados[\"PetalLengthCm\"], dados[\"PetalWidthCm\"])\n",
        "plt.xlabel(\"Comprimento da Pétala\")\n",
        "plt.ylabel(\"Largura da Pétala\")\n",
        "plt.title(\"Diagrama de Dispersão\")\n",
        "plt.show()"
      ],
      "execution_count": null,
      "outputs": [
        {
          "output_type": "display_data",
          "data": {
            "image/png": "[encoded data removed]",
            "text/plain": [
              "<Figure size 432x288 with 1 Axes>"
            ]
          },
          "metadata": {
            "tags": [],
            "needs_background": "light"
          }
        }
      ]
    },
    {
      "cell_type": "code",
      "metadata": {
        "colab": {
          "base_uri": "https://localhost:8080/"
        },
        "id": "6qPGGi-ORKIe",
        "outputId": "bb8d0170-76f5-446c-f9dc-9f5e255c9703"
      },
      "source": [
        "np.corrcoef(dados[\"PetalLengthCm\"], dados[\"PetalWidthCm\"])"
      ],
      "execution_count": null,
      "outputs": [
        {
          "output_type": "execute_result",
          "data": {
            "text/plain": [
              "array([[1.       , 0.9627571],\n",
              "       [0.9627571, 1.       ]])"
            ]
          },
          "metadata": {
            "tags": []
          },
          "execution_count": 11
        }
      ]
    },
    {
      "cell_type": "markdown",
      "metadata": {
        "id": "qV2dWQKYWmjs"
      },
      "source": [
        "Calculando o coeficiente de correlação entre o comprimento e a largura da pétala foi possível perceber que o valor está próximo de um, o que indica uma correlação linear positiva."
      ]
    },
    {
      "cell_type": "code",
      "metadata": {
        "colab": {
          "base_uri": "https://localhost:8080/",
          "height": 296
        },
        "id": "lxVCDIvtXbAx",
        "outputId": "d4bff673-e32e-4165-e64f-8f61a9c98da6"
      },
      "source": [
        "plt.scatter(dados[\"PetalLengthCm\"], dados[\"SepalWidthCm\"])\n",
        "plt.xlabel(\"Comprimento da Pétala\")\n",
        "plt.ylabel(\"Largura do Sépal\")\n",
        "plt.title(\"Diagrama de Dispersão\")\n",
        "plt.show()"
      ],
      "execution_count": null,
      "outputs": [
        {
          "output_type": "display_data",
          "data": {
            "image/png": "[encoded data removed]",
            "text/plain": [
              "<Figure size 432x288 with 1 Axes>"
            ]
          },
          "metadata": {
            "tags": [],
            "needs_background": "light"
          }
        }
      ]
    },
    {
      "cell_type": "code",
      "metadata": {
        "colab": {
          "base_uri": "https://localhost:8080/"
        },
        "id": "o3Yq17z6XbA9",
        "outputId": "0d593f48-94e8-4306-bac1-903ae5c2d876"
      },
      "source": [
        "np.corrcoef(dados[\"PetalLengthCm\"], dados[\"SepalWidthCm\"])"
      ],
      "execution_count": null,
      "outputs": [
        {
          "output_type": "execute_result",
          "data": {
            "text/plain": [
              "array([[ 1.       , -0.4205161],\n",
              "       [-0.4205161,  1.       ]])"
            ]
          },
          "metadata": {
            "tags": []
          },
          "execution_count": 13
        }
      ]
    },
    {
      "cell_type": "markdown",
      "metadata": {
        "id": "BZUE9cAkXzMZ"
      },
      "source": [
        "É possível perceber que o comprimento da pétala e a largura do sépal possuem uma correlação negativa fraca, com base no diagrama de dispersão e no coeficiente de correlação igual a -0.42."
      ]
    },
    {
      "cell_type": "code",
      "metadata": {
        "colab": {
          "base_uri": "https://localhost:8080/",
          "height": 296
        },
        "id": "PRT1iOOTN1TW",
        "outputId": "32c45b41-2573-439c-8435-91a10bde3ff1"
      },
      "source": [
        "plt.scatter(dados[\"SepalWidthCm\"], dados[\"SepalLengthCm\"])\n",
        "plt.xlabel(\"Largura do Sépal\")\n",
        "plt.ylabel(\"Comprimento do Sépal\")\n",
        "plt.title(\"Diagrama de Dispersão\")\n",
        "plt.show()"
      ],
      "execution_count": null,
      "outputs": [
        {
          "output_type": "display_data",
          "data": {
            "image/png": "[encoded data removed]",
            "text/plain": [
              "<Figure size 432x288 with 1 Axes>"
            ]
          },
          "metadata": {
            "tags": [],
            "needs_background": "light"
          }
        }
      ]
    },
    {
      "cell_type": "code",
      "metadata": {
        "colab": {
          "base_uri": "https://localhost:8080/"
        },
        "id": "3Z7F_0gkN1Tc",
        "outputId": "8dcc2671-1601-4b02-ec12-d7ad50910a8e"
      },
      "source": [
        "np.corrcoef(dados[\"SepalWidthCm\"], dados[\"SepalLengthCm\"])"
      ],
      "execution_count": null,
      "outputs": [
        {
          "output_type": "execute_result",
          "data": {
            "text/plain": [
              "array([[ 1.        , -0.10936925],\n",
              "       [-0.10936925,  1.        ]])"
            ]
          },
          "metadata": {
            "tags": []
          },
          "execution_count": 42
        }
      ]
    },
    {
      "cell_type": "markdown",
      "metadata": {
        "id": "wuIcq-FeN1Td"
      },
      "source": [
        "Os atributos lárgura e comprimento do sépal não estão correlacionados entre si, possuindo um coeficiente de correlação negativo próximo de zero."
      ]
    },
    {
      "cell_type": "code",
      "metadata": {
        "colab": {
          "base_uri": "https://localhost:8080/",
          "height": 204
        },
        "id": "GumGBOkwSRTN",
        "outputId": "f1aaf6a2-ada8-485c-8b7b-b2a81e8f460b"
      },
      "source": [
        "corr = dados.corr()\n",
        "corr"
      ],
      "execution_count": null,
      "outputs": [
        {
          "output_type": "execute_result",
          "data": {
            "text/html": [
              "<div>\n",
              "<style scoped>\n",
              "    .dataframe tbody tr th:only-of-type {\n",
              "        vertical-align: middle;\n",
              "    }\n",
              "\n",
              "    .dataframe tbody tr th {\n",
              "        vertical-align: top;\n",
              "    }\n",
              "\n",
              "    .dataframe thead th {\n",
              "        text-align: right;\n",
              "    }\n",
              "</style>\n",
              "<table border=\"1\" class=\"dataframe\">\n",
              "  <thead>\n",
              "    <tr style=\"text-align: right;\">\n",
              "      <th></th>\n",
              "      <th>Id</th>\n",
              "      <th>SepalLengthCm</th>\n",
              "      <th>SepalWidthCm</th>\n",
              "      <th>PetalLengthCm</th>\n",
              "      <th>PetalWidthCm</th>\n",
              "    </tr>\n",
              "  </thead>\n",
              "  <tbody>\n",
              "    <tr>\n",
              "      <th>Id</th>\n",
              "      <td>1.000000</td>\n",
              "      <td>0.716676</td>\n",
              "      <td>-0.397729</td>\n",
              "      <td>0.882747</td>\n",
              "      <td>0.899759</td>\n",
              "    </tr>\n",
              "    <tr>\n",
              "      <th>SepalLengthCm</th>\n",
              "      <td>0.716676</td>\n",
              "      <td>1.000000</td>\n",
              "      <td>-0.109369</td>\n",
              "      <td>0.871754</td>\n",
              "      <td>0.817954</td>\n",
              "    </tr>\n",
              "    <tr>\n",
              "      <th>SepalWidthCm</th>\n",
              "      <td>-0.397729</td>\n",
              "      <td>-0.109369</td>\n",
              "      <td>1.000000</td>\n",
              "      <td>-0.420516</td>\n",
              "      <td>-0.356544</td>\n",
              "    </tr>\n",
              "    <tr>\n",
              "      <th>PetalLengthCm</th>\n",
              "      <td>0.882747</td>\n",
              "      <td>0.871754</td>\n",
              "      <td>-0.420516</td>\n",
              "      <td>1.000000</td>\n",
              "      <td>0.962757</td>\n",
              "    </tr>\n",
              "    <tr>\n",
              "      <th>PetalWidthCm</th>\n",
              "      <td>0.899759</td>\n",
              "      <td>0.817954</td>\n",
              "      <td>-0.356544</td>\n",
              "      <td>0.962757</td>\n",
              "      <td>1.000000</td>\n",
              "    </tr>\n",
              "  </tbody>\n",
              "</table>\n",
              "</div>"
            ],
            "text/plain": [
              "                     Id  SepalLengthCm  ...  PetalLengthCm  PetalWidthCm\n",
              "Id             1.000000       0.716676  ...       0.882747      0.899759\n",
              "SepalLengthCm  0.716676       1.000000  ...       0.871754      0.817954\n",
              "SepalWidthCm  -0.397729      -0.109369  ...      -0.420516     -0.356544\n",
              "PetalLengthCm  0.882747       0.871754  ...       1.000000      0.962757\n",
              "PetalWidthCm   0.899759       0.817954  ...       0.962757      1.000000\n",
              "\n",
              "[5 rows x 5 columns]"
            ]
          },
          "metadata": {
            "tags": []
          },
          "execution_count": 14
        }
      ]
    },
    {
      "cell_type": "markdown",
      "metadata": {
        "id": "Jt04NTgPYee1"
      },
      "source": [
        "Esta tabela contém os valores de correlação entre todos os atributos das espécies de íris."
      ]
    },
    {
      "cell_type": "code",
      "metadata": {
        "colab": {
          "base_uri": "https://localhost:8080/",
          "height": 355
        },
        "id": "WMPnNMFTSDHP",
        "outputId": "d71c38b7-98a2-4319-a15d-4b83c9914655"
      },
      "source": [
        "sns.heatmap(corr, vmin = -1, vmax = 1, center = 0, cmap = sns.diverging_palette(500, 1000 ,n=900))"
      ],
      "execution_count": null,
      "outputs": [
        {
          "output_type": "execute_result",
          "data": {
            "text/plain": [
              "<matplotlib.axes._subplots.AxesSubplot at 0x7fd302164518>"
            ]
          },
          "metadata": {
            "tags": []
          },
          "execution_count": 15
        },
        {
          "output_type": "display_data",
          "data": {
            "image/png": "[encoded data removed]",
            "text/plain": [
              "<Figure size 432x288 with 2 Axes>"
            ]
          },
          "metadata": {
            "tags": [],
            "needs_background": "light"
          }
        }
      ]
    },
    {
      "cell_type": "markdown",
      "metadata": {
        "id": "uWIJMD5tYmTF"
      },
      "source": [
        "O mapa de calor ilustra bem os dados de correlação contidos na tabela acima, dando uma visão geral dos atributos correlacionados entre si."
      ]
    },
    {
      "cell_type": "markdown",
      "metadata": {
        "id": "LgIisM4dY1rU"
      },
      "source": [
        "**Regressão Linear**"
      ]
    },
    {
      "cell_type": "markdown",
      "metadata": {
        "id": "oq7mufunY8QQ"
      },
      "source": [
        "Os dois atributos mais correlacionados do conjunto de dados são o comprimento da pétala e a largura da pétala. Então estes atributos serão utilizados para realizar previsões utilizando a equação de regressão."
      ]
    },
    {
      "cell_type": "code",
      "metadata": {
        "id": "PbJL1WTyZvKF"
      },
      "source": [
        "c_petala = dados[\"PetalLengthCm\"]\n",
        "l_petala = dados[\"PetalWidthCm\"]"
      ],
      "execution_count": null,
      "outputs": []
    },
    {
      "cell_type": "code",
      "metadata": {
        "colab": {
          "base_uri": "https://localhost:8080/"
        },
        "id": "Mhcq368cZnyg",
        "outputId": "3fe4ade0-de97-4700-8f97-9367bcdbaf7c"
      },
      "source": [
        "m, b, r_value, p_value, std_err = stats.linregress(c_petala, l_petala)\n",
        "m, b"
      ],
      "execution_count": null,
      "outputs": [
        {
          "output_type": "execute_result",
          "data": {
            "text/plain": [
              "(0.41641913228540123, -0.3665140452167277)"
            ]
          },
          "metadata": {
            "tags": []
          },
          "execution_count": 17
        }
      ]
    },
    {
      "cell_type": "code",
      "metadata": {
        "id": "Hd0L2cYYZ_6M"
      },
      "source": [
        "# calculando a linha de regressao\n",
        "linha_reg = [m * i + b for i in range(round((max(c_petala))+0.5))]"
      ],
      "execution_count": null,
      "outputs": []
    },
    {
      "cell_type": "markdown",
      "metadata": {
        "id": "6BuAH8QSOsio"
      },
      "source": [
        "O comando round se fez necessário para que o laço de repetição podesse ser executado, visto que os valores dos atributos são do tipo ponto flutuante (float), arredondando o valor para um número do tipo inteiro."
      ]
    },
    {
      "cell_type": "code",
      "metadata": {
        "colab": {
          "base_uri": "https://localhost:8080/",
          "height": 296
        },
        "id": "LbI5Jr1tZFdP",
        "outputId": "85234ac4-14ab-44a7-d862-9fa2315533bc"
      },
      "source": [
        "plt.scatter(dados[\"PetalLengthCm\"], dados[\"PetalWidthCm\"])\n",
        "plt.plot(linha_reg,\"r\")\n",
        "plt.xlabel(\"Comprimento da Pétala\")\n",
        "plt.ylabel(\"Largura da Pétala\")\n",
        "plt.title(\"Diagrama de Dispersão\")\n",
        "plt.show()"
      ],
      "execution_count": null,
      "outputs": [
        {
          "output_type": "display_data",
          "data": {
            "image/png": "[encoded data removed]",
            "text/plain": [
              "<Figure size 432x288 with 1 Axes>"
            ]
          },
          "metadata": {
            "tags": [],
            "needs_background": "light"
          }
        }
      ]
    },
    {
      "cell_type": "markdown",
      "metadata": {
        "id": "8BVIYGkebnlX"
      },
      "source": [
        "*   Se um cliente se dirigisse a uma loja que vendesse íris com as mesmas características procurando uma flor que tenha uma pétala de 5cm de comprimento. Qual seria o valor previsto para a largura da pétala desta íris?\n",
        "  *   Substituindo o valor na equação:\n",
        "  * $\\hat{y} = 0.41x + (-0.36) = 0.41*5 - 0.36 = 1.69$\n",
        "\n",
        "Então, pode-se prever que a largura da pétala seria de 1.69 cm.\n",
        "\n"
      ]
    },
    {
      "cell_type": "code",
      "metadata": {
        "colab": {
          "base_uri": "https://localhost:8080/",
          "height": 296
        },
        "id": "LWYUzzcCKWaF",
        "outputId": "8e65ae4d-6843-4242-8d61-aaf302f7a986"
      },
      "source": [
        "plt.scatter(dados[\"PetalLengthCm\"], dados[\"PetalWidthCm\"])\n",
        "plt.plot(linha_reg,\"r\")\n",
        "plt.scatter(5,1.69, color=\"r\")\n",
        "plt.xlabel(\"Comprimento da Pétala\")\n",
        "plt.ylabel(\"Largura da Pétala\")\n",
        "plt.title(\"Diagrama de Dispersão\")\n",
        "plt.show()"
      ],
      "execution_count": null,
      "outputs": [
        {
          "output_type": "display_data",
          "data": {
            "image/png": "[encoded data removed]",
            "text/plain": [
              "<Figure size 432x288 with 1 Axes>"
            ]
          },
          "metadata": {
            "tags": [],
            "needs_background": "light"
          }
        }
      ]
    },
    {
      "cell_type": "markdown",
      "metadata": {
        "id": "afP7CDQSNGsh"
      },
      "source": [
        "Como podemos ver no gráfico, o ponto (5, 1.69) é adjacente à linha de regressão plotada no diagrama."
      ]
    },
    {
      "cell_type": "markdown",
      "metadata": {
        "id": "9YiMMOZ0Po58"
      },
      "source": [
        "# **Conclusões**"
      ]
    },
    {
      "cell_type": "markdown",
      "metadata": {
        "id": "tznM1UibPrbe"
      },
      "source": [
        "Neste data set, foi possível concluir utilizando métricas de correlação entre atributos que as características mais correlacionadas são:\n",
        "\n",
        "\n",
        "*   Comprimento da pétala e comprimento do sépal\n",
        "*   Largura da pétala e comprimento do sépal\n",
        "*   Comprimento e largura da pétala (maior correlação)\n",
        "\n",
        "Também existem atributos com correlação negatica fraca como comprimento da pétala e largura do sépal. E também atributos que não possuem correlação como a largura e o comprimento do sépal."
      ]
    }
  ]
}